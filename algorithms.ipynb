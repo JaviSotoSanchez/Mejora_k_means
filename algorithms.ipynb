{
 "cells": [
  {
   "cell_type": "code",
   "execution_count": 6,
   "metadata": {
    "collapsed": false
   },
   "outputs": [
   ],
   "source": [
    "#Class Polytope\n",
    "K = QQ\n",
    "PREC = 5\n",
    "import numpy as np\n",
    "import matplotlib.pyplot as plt\n",
    "from scipy.stats import ortho_group\n",
    "from scipy.cluster.vq import vq, kmeans, kmeans2,vq\n",
    "from scipy import linalg, matrix\n",
    "from copy import deepcopy as copy\n",
    "data=[]\n",
    "\n",
    "#for line in open(\"linux2.txt\"):\n",
    "    #mylist=[QQ(int(float(i)*100000)) for i in line.strip().split(\",\")]\n",
    "    #data.append(mylist)\n",
    "#data=data[:100]\n",
    "#print(data)\n",
    "\n",
    "data = [[QQ(10),QQ(10)],[QQ(10),QQ(1)],[QQ(10),QQ(2)],[QQ(10),QQ(3)],[QQ(1),QQ(5)],[QQ(3),QQ(2)]]\n",
    "\n",
    "class Polytope:\n",
    "    \"\"\"\n",
    "    New class of polytope. It is suppose that it is\n",
    "    faster than the polytope class of sage\n",
    "    \"\"\"\n",
    "\n",
    "    def __init__(self, dimension, ineq):\n",
    "        \"\"\"\n",
    "        This is the constructor of the class Polytope.\n",
    "        ineq is a list of inequalities and we distinguish between\n",
    "        the homogenous and inhomogenous inequalities using the\n",
    "        dimension\n",
    "        \"\"\"\n",
    "        #print dimension, ineq\n",
    "        self.dimension = dimension\n",
    "        self.length = len(ineq[0])\n",
    "        self.ineq = copy(ineq)\n",
    "        d = dimension + 1 -self.length\n",
    "        listTemp = [([K(0)] * (d) + [K(i) for i in l]) for l in ineq ]\n",
    "        self.P = Polyhedron(ieqs = listTemp, base_ring = K)\n",
    "        self.indexes = self.necessary(listTemp)\n",
    "\n",
    "    def indexes(self):\n",
    "        \"\"\"\n",
    "        This method returns a list with the indexes (with respect to\n",
    "        the list of all inequalities) of the non redundant inequalities\n",
    "        \"\"\"\n",
    "        return self.indexes\n",
    "\n",
    "    def necessary(self, ineq):\n",
    "        \"\"\"\n",
    "        This method returns the indexes of the\n",
    "        elements which appears as inequalities in the representation\n",
    "        of the polytope\n",
    "        \"\"\"\n",
    "        return [ineq.index(l) for l in self.P.inequalities_list()]\n",
    "\n",
    "    def interiorPoint(self):\n",
    "        \"\"\"\n",
    "        This method calculates an interior point of the polytope\n",
    "        \"\"\"\n",
    "        if self.P.dim()<self.dimension:\n",
    "            raise Exception( \"dimension of P:\" + str(self.P.dim())\n",
    "                             + \"attribute: \"+ str(self.dimension))\n",
    "\n",
    "        problem = MixedIntegerLinearProgram(maximization = True)\n",
    "        w = problem.new_variable(nonnegative=True)\n",
    "        problem.set_objective(w[0])\n",
    "        problem.set_max(w[0],1)\n",
    "        for l in self.P.inequality_generator():\n",
    "            restriction=w[0]\n",
    "            l_i = (j for j in l)\n",
    "            restriction=restriction + RDF(next(l_i))\n",
    "            for i, k in enumerate(l_i):\n",
    "                restriction -= RDF(k)*w[i + 1]\n",
    "                problem.set_min(w[i + 1], None)\n",
    "            problem.add_constraint(restriction<=0)\n",
    "        valueProblem = problem.solve()\n",
    "        solution=[]\n",
    "        long = 0\n",
    "        for i,v in problem.get_values(w).items():\n",
    "            solution.append(v)\n",
    "            long=long+1\n",
    "        if long<self.dimension:\n",
    "            raise Exception( \"Error! empty polytope\")\n",
    "        return [K(element) for element in solution[1:]]\n",
    "\n",
    "\n",
    "class Enumerator:\n",
    "    \"\"\"\n",
    "    This class is an abstract class to implement, in the most possible\n",
    "    general way. The notation follow the one given in the article\n",
    "    'Reverse search for enumeration' by Avis and Fukuda.\n",
    "    There is one sutility, though: delta is not necessary for the\n",
    "    implementation BUT it is necessary to exists.\n",
    "    \"\"\"\n",
    "\n",
    "    def __init__(self):\n",
    "        \"\"\"\n",
    "        Constructor\n",
    "        processes is the number of\n",
    "        processes which our enumerator will launch, filename and\n",
    "        directory are used for bookmarking\n",
    "        \"\"\"\n",
    "        pass\n",
    "\n",
    "\n",
    "    def f(self, v):\n",
    "        \"\"\"\n",
    "        This function is the local search function\n",
    "        Arguments:\n",
    "        - `self`:\n",
    "        - `v`: this is the vertex\n",
    "        \"\"\"\n",
    "        pass\n",
    "\n",
    "    def Adj(self, v):\n",
    "        \"\"\"\n",
    "        This is the adjacency list oracle. It suppose to be a\n",
    "        generator that returns, one by one, each of the adjacencies of v.\n",
    "        Arguments:\n",
    "        - `self`:\n",
    "        - `v`: denotes the vertex for which we are looking the\n",
    "               adjacencies\n",
    "        \"\"\"\n",
    "        pass\n",
    "\n",
    "\n",
    "\n",
    "    def reverse_search(self, S, heuristic = lambda x: 0, mejor_actual = infinity, coste = lambda s: infinity):\n",
    "        \"\"\"\n",
    "        This is the main algorithm, which is a generator\n",
    "        function. This means that outputs all the elements without\n",
    "        keeping them in memory.\n",
    "        \"\"\"\n",
    "        for s in S:\n",
    "            yield s\n",
    "            v = s\n",
    "            do = True #In the original paper there was a do-while\n",
    "            Adjacencies = self.Adj(v) #I suppose that it is a generator\n",
    "            while do:\n",
    "                b_while = True #to avoid the use of delta and j\n",
    "                while b_while:\n",
    "                    try:\n",
    "                        #This is a minor thing, Avis and Fukuda\n",
    "                        #proposed to use a distinguished element in\n",
    "                        #the case there were no more adjacencies. In\n",
    "                        #Python, it is customary to throw an exception\n",
    "                        #which signals the end of the adjacencies\n",
    "                        Next = next(Adjacencies)\n",
    "                        if self.f(Next) == v and heuristic(Next) < mejor_actual:\n",
    "                            mejor_actual = min(mejor_actual, coste(Next))\n",
    "                            v = Next\n",
    "                            Adjacencies = self.Adj(v)\n",
    "                            yield v\n",
    "\n",
    "                    except StopIteration:\n",
    "                        #no more adjacencies, Avis and Fukuda would\n",
    "                        #write j>= delta\n",
    "                        b_while = False\n",
    "                try:\n",
    "                    if v == s:\n",
    "                        #This is a little different because the\n",
    "                        #implementation this way is simpler, but it is\n",
    "                        #actually the same thing\n",
    "                        v = next(Adjacencies)\n",
    "                        Adjacencies = self.Adj(v)\n",
    "                    else:\n",
    "                        u, v = v, self.f(v)\n",
    "                        Adjacencies = self.Adj(v)\n",
    "                        different = u != next(Adjacencies)\n",
    "                        while different:\n",
    "                            different = u != next(Adjacencies)\n",
    "                except StopIteration:\n",
    "                    do = False\n",
    "\n",
    "#Class Arrangement\n",
    "class Arrangement(Enumerator):\n",
    "\n",
    "    \"\"\"\n",
    "    This class  represents an arrangement of hyperplanes\n",
    "    \"\"\"\n",
    "\n",
    "    def __init__(self, hyperplanes, pointR = []):\n",
    "        \"\"\"\n",
    "        Constructor, which takes a list of hyperplanes, representing\n",
    "        by lists of the same length and a initial point pointR.\n",
    "        This point can be empty and the class generates it at random.\n",
    "        \"\"\"\n",
    "        Enumerator.__init__(self)\n",
    "        self.hyperplanes = [[i/gcd(l) for i in l] for l in hyperplanes]\n",
    "        self.V = VectorSpace(K, len(hyperplanes[0]))\n",
    "        if pointR:\n",
    "            self.pointR = self.V(pointR)\n",
    "        else:\n",
    "            #Pick a first cell at\n",
    "            #random, it is represented by a point\n",
    "            self.pointR=self.firstPoint()\n",
    "\n",
    "        self.initial_c = tuple( sign(self.V(L).dot_product(self.pointR))\n",
    "                                for L in self.hyperplanes)\n",
    "        listAux = []\n",
    "        for l in self.hyperplanes:\n",
    "            L=self.V(l)\n",
    "            listAux.append(L*sign(L.dot_product(self.pointR)))\n",
    "        self.hyperplanes = listAux\n",
    "\n",
    "\n",
    "    def firstPoint(self):\n",
    "        \"\"\"\n",
    "        This method selects a random point which does not belong in\n",
    "        any of the hyperplanes\n",
    "        \"\"\"\n",
    "        product=0\n",
    "        pointR=self.V.random_element()\n",
    "        while any(self.V(l).dot_product(pointR)==0\n",
    "                  for l in self.hyperplanes):\n",
    "            pointR=self.V.random_element()\n",
    "        return pointR\n",
    "\n",
    "\n",
    "    def interior_point(self,c):\n",
    "        \"\"\"\n",
    "        Returns an interior point of the cell that have\n",
    "        the signs given by c, which must be non-empty.\n",
    "        \"\"\"\n",
    "        cell = []\n",
    "        for c_i, h_i  in zip(c, self.hyperplanes):\n",
    "            cell.append((c_i * h_i).list())\n",
    "        p_aux =Polytope(self.V.dimension(),cell).interiorPoint()\n",
    "        return self.V(p_aux)\n",
    "\n",
    "    def f(self, v):\n",
    "        \"\"\"\n",
    "        Returns which elements go before this element\n",
    "        \"\"\"\n",
    "        p = self.interior_point(v)\n",
    "        self.p = p\n",
    "        if p == self.V(0):\n",
    "            print(\"Empty cell!\"+str(v))\n",
    "            return c\n",
    "        distance=infinity\n",
    "        position, counter = 0, -1\n",
    "        betterHyperplane=self.hyperplanes[0]/(-p.dot_product(self.hyperplanes[0]))\n",
    "        for  hyperplane, c_counter in zip(self.hyperplanes, v):\n",
    "            counter += 1\n",
    "            dotProduct = hyperplane.dot_product(-p)\n",
    "            if hyperplane.dot_product(self.pointR-p)!=0:\n",
    "                auxDistance = dotProduct/hyperplane.dot_product(self.pointR-p)\n",
    "            else:\n",
    "                auxDistance = infinity\n",
    "            if ((distance > auxDistance and 0 < auxDistance < 1 and\n",
    "                 c_counter ==-1) or\n",
    "                 (distance==auxDistance and\n",
    "                  self.order(betterHyperplane,hyperplane/(dotProduct)))\n",
    "                ):\n",
    "                position, distance = counter, auxDistance\n",
    "                betterHyperplane=hyperplane/(dotProduct)\n",
    "        e=list(v)\n",
    "        e[position]=1\n",
    "        return tuple(e)\n",
    "\n",
    "    def order(self,V,V1):\n",
    "        \"\"\"\n",
    "        This function is returns True if V> V1, where > represents the\n",
    "        lexicographic order\n",
    "        \"\"\"\n",
    "        for v, v1 in zip(V, V1):\n",
    "            if v < v1:\n",
    "                 return true\n",
    "            elif v> v1:\n",
    "                return false\n",
    "        return false\n",
    "\n",
    "    def Adj(self, v):\n",
    "        \"\"\"Search for all hyperplanes that forms the faces of the polytope\"\"\"\n",
    "        ineq = [(v_i* h_i).list()\n",
    "                for h_i, v_i in zip(self.hyperplanes, v)]\n",
    "        l = Polytope(self.V.dimension(),ineq).indexes\n",
    "        for index in  l:\n",
    "            yield tuple( c_i if index != j else c_i*(-1)\n",
    "                    for j, c_i in enumerate(v))\n",
    "\n",
    "\n",
    "#Class for generating all possible voronoi clusters when the number of clusters is two.\n",
    "\n",
    "class Cluster2:\n",
    "    \"\"\"\n",
    "    This class is a generator, which gives all possible clustering defined by a voronoi\n",
    "    region using a tuple t, where t[i] == 1 iff p[i] belongs to cluster 1.\n",
    "    \"\"\"\n",
    "\n",
    "    def __init__(self, points):\n",
    "        \"\"\"\n",
    "        Constructor\n",
    "        \"\"\"\n",
    "        self.points = copy(points)\n",
    "        self.d = len(points[0])\n",
    "\n",
    "    def codes(self):\n",
    "        \"\"\"\n",
    "        This is a generator, which returns all possible clusters\n",
    "        codified as a tuple t satisfying:\n",
    "        t[i] == 1 iff points[i] belong to cluster 1\n",
    "        \"\"\"\n",
    "\n",
    "        bound = max(max(self.points))\n",
    "        points_aux = [[1] + [ 2 * i for i in l]\n",
    "                      for l in self.points]\n",
    "        pointR = [bound] + [0] * self.d\n",
    "        ar = Arrangement(points_aux, pointR)\n",
    "        for l in ar.reverse_search({tuple([1]*len(self.points))}):\n",
    "            yield l\n",
    "\n",
    "    def cost(self, s):\n",
    "        return inter_cluster(self.points, [s])\n",
    "\n",
    "\n",
    "\n",
    "\n",
    "#Intracluster measure\n",
    "def intra_cluster(points):\n",
    "    V = VectorSpace(K, len(points[0]))\n",
    "    vecs = [V(p) for p in points]\n",
    "    center = sum(vecs)/len(points)\n",
    "    result = 0\n",
    "    for v in vecs:\n",
    "        result +=  (v-center).norm()**2\n",
    "    return result\n",
    "\n",
    "#Intercluster measure\n",
    "\n",
    "def inter_cluster(data,clusters):\n",
    "    '''\n",
    "    return the inter cluster measure of a partition.\n",
    "    clusters is a list of indicator functions, e. g.\n",
    "    clusters[i] is a vector of 0 and 1's such that if\n",
    "    self.data[j] in C_i iff clusters[i][j] == 1.\n",
    "    To save just a litte of memory, the length of clusters is\n",
    "    going to be k-1. The points in C_{k-1} are the points that are\n",
    "    not in any of the other clusters. It is nice to notice that\n",
    "    the mass centers are important, the intra_cluster measure\n",
    "    depends heavily in the intra_cluster measure and it is not\n",
    "    difficult to find examples, where the intracluster measure is\n",
    "    smaller taking \"fake\" centroids.\n",
    "    '''\n",
    "\n",
    "    partition = []\n",
    "    dist = 0\n",
    "    for cluster in clusters:\n",
    "        part = []\n",
    "        for p, i in zip (data, cluster):\n",
    "            if i>0:\n",
    "                part.append(p)\n",
    "        if part:\n",
    "            dist += intra_cluster(part)\n",
    "        part = []\n",
    "        for d in zip(data,*clusters):\n",
    "            if not any(i>0 for i in d[1:]):\n",
    "                part.append(d[0])\n",
    "        if part:\n",
    "            dist += intra_cluster(part)\n",
    "    return dist\n",
    "\n"
   ]
  },
  {
   "cell_type": "code",
   "execution_count": 2,
   "metadata": {
    "collapsed": false
   },
   "outputs": [
    {
     "name": "stdout",
     "output_type": "stream",
     "text": [
      "los signos son [(1, 1, 1, 1, 1, 1), (1, 1, 1, 1, -1, 1), (1, -1, 1, 1, -1, 1), (1, -1, -1, 1, -1, 1), (1, -1, -1, -1, -1, 1), (1, -1, -1, -1, -1, -1), (-1, 1, 1, 1, 1, 1), (-1, 1, 1, 1, 1, -1), (-1, 1, 1, -1, 1, -1), (-1, 1, -1, -1, 1, -1), (-1, -1, -1, -1, 1, -1), (-1, -1, -1, -1, -1, -1)]\n"
     ]
    }
   ],
   "source": [
    "ar = Arrangement(data)\n",
    "result = []\n",
    "for i in ar.reverse_search({tuple([1]*len(data))}):\n",
    "    result.append(i)\n",
    "print(\"los signos son\",result)"
   ]
  },
  {
   "cell_type": "code",
   "execution_count": 3,
   "metadata": {
    "collapsed": false
   },
   "outputs": [
   ],
   "source": [
    "def oneDimCluster(x, y):\n",
    "\n",
    "    \"\"\"\n",
    "        Candidate function to be used as a heuristic in a branch & bound\n",
    "        algorithm. It is based on the projection on each of the axes,\n",
    "        where the points in Y are fixed in one of the two clusters.\n",
    "\n",
    "        INPUT: x: list of points that can be moved to the other cluster.\n",
    "               y: list of points that are fixed in one of the clusters.\n",
    "\n",
    "\n",
    "        OUTPUT: Optimal inter-cluster value in one dimension, where the\n",
    "                points of Y are fixed.\n",
    "    \"\"\"\n",
    "\n",
    "    cte = sum(y); n = len(x); m = len(y); N = n + m\n",
    "    mu_1 = 0; mu_2 = (sum(x) + cte)/N\n",
    "    sum_1 = 0\n",
    "    sum_3 = vector([yj - mu_2 for yj in y]).norm()**2\n",
    "    if n == 0:\n",
    "        return sum_3\n",
    "    sum_2 = vector([xj - mu_2 for xj in x]).norm()**2\n",
    "    if m == 0:\n",
    "        return sum_2\n",
    "    c = sum_1 + sum_2 +sum_3\n",
    "    #print(c)\n",
    "    for i in range(1,n):\n",
    "        xi = x[i - 1]; Ni = N - i; ni = n - i;\n",
    "        sum_1 = sum_1 + ((i-1)/i)*(xi - mu_1)**2\n",
    "        aux = mu_2*(Ni + 1) - (cte + xi)\n",
    "        sum_2 = sum_2 + ((ni/(Ni**2)) - 1)*(xi - mu_2)**2 + (2/Ni)*(xi - mu_2)*(aux - ni*mu_2)\n",
    "        sum_3 = sum_3 + (m/(Ni**2))*(xi - mu_2)**2 + (2/Ni)*(xi - mu_2)*(cte - m*mu_2)\n",
    "        mu_1 = ((i - 1)*mu_1 + xi)/i\n",
    "        mu_2 = ((Ni + 1)*mu_2 - xi)/Ni\n",
    "        c = min(c, sum_1 + sum_2 +sum_3)\n",
    "        #print(c)\n",
    "\n",
    "    sum_1 = sum_1 + ((n-1)/n)*(x[n - 1] - mu_1)**2\n",
    "    sum_2 = 0\n",
    "    sum_3 = sum_3 + (1/m)*(x[n - 1] - mu_2)**2 + (2/m)*(x[n - 1] - mu_2)*(cte - m*mu_2)\n",
    "\n",
    "    return min(c, sum_1 + sum_2 + sum_3)"
   ]
  },
  {
   "cell_type": "code",
   "execution_count": 4,
   "metadata": {
    "collapsed": false
   },
   "outputs": [
   ],
   "source": [
    "def clusteringBound(Q, Lambda, S1, S2, alpha, coste, d):\n",
    "    i = 1; B = 0;B_new = 0;#beta = coste, en el while beta > alpha\n",
    "    while (B < alpha) and (i < d + 1):\n",
    "        u = Q[:,d-i]\n",
    "        X = [vector(u).dot_product(vector(s)) for s in S1]\n",
    "        #print(X)\n",
    "        Y = [vector(u).dot_product(vector(s)) for s in S2]\n",
    "        #print(Y)\n",
    "        y_min = min(Y); y_max = max(Y)\n",
    "        X.sort()\n",
    "        X_left = []; X_right = []; X_med = []\n",
    "        for x in X:\n",
    "            if x <= y_min:\n",
    "                X_left.append(x)\n",
    "            elif (x > y_min) and (x < y_max):\n",
    "                X_med.append(x)\n",
    "            else:\n",
    "                X_right.append(x)\n",
    "        Y.extend(X_med)\n",
    "        if len(X_right)!=0 and len(X_left)!=0:\n",
    "            Y_l = Y.copy(); Y_l.extend(X_left)\n",
    "            Y_r = Y.copy(); Y_r.extend(X_right)\n",
    "            B_new = min(oneDimCluster(list(reversed(X_right)), Y_l), oneDimCluster(X_left,Y_r))\n",
    "            B = B + B_new\n",
    "        elif len(X_right)!=0 and len(X_left)==0:\n",
    "            Y_l = Y.copy(); Y_l.extend(X_left)\n",
    "            B_new = oneDimCluster(list(reversed(X_right)), Y_l)\n",
    "            B = B + B_new\n",
    "        elif len(X_right)==0 and len(X_left)!=0:\n",
    "            Y_r = Y.copy(); Y_r.extend(X_right)\n",
    "            B_new = oneDimCluster(X_left,Y_r)\n",
    "            B = B + B_new\n",
    "        else:\n",
    "            B_new = oneDimCluster([],Y)\n",
    "            B = B + B_new\n",
    "        #beta = B_new + beta - Lambda[d-i]\n",
    "        i += 1\n",
    "        #print(B_new)\n",
    "        #print(B)\n",
    "        #print(beta)\n",
    "    return B"
   ]
  },
  {
   "cell_type": "code",
   "execution_count": 5,
   "metadata": {
    "collapsed": false
   },
   "outputs": [
   ],
   "source": [
    "#Considero la partición S1 y S2 como ejemplo.\n",
    "S1 = [data[i] for i in range(0,4)]\n",
    "S2 = [data[i] for i in range(4,6)]\n",
    "S1m = np.array(S1).T\n",
    "S2m = np.array(S2).T\n",
    "M = 3*np.cov(S1m) + np.cov(S2m)\n",
    "vv = np.linalg.eigh(M)\n",
    "#Matriz ortogonal identidad, es decir; proyectar sobre la base canónica.\n",
    "Id = np.array([[1,0],[0,1]])\n",
    "#Matriz ortogonal correspondiente con la base de vectores propios de la matriz M.\n",
    "O = vv[1]\n",
    "#Valores propios, no los uso en lo que sigue\n",
    "Lambda = vv[0]"
   ]
  },
  {
   "cell_type": "code",
   "execution_count": 15,
   "metadata": {
    "collapsed": false
   },
   "outputs": [
    {
     "data": {
      "text/plain": [
       "[[10, 10], [10, 1], [10, 2], [10, 3]]"
      ]
     },
     "execution_count": 15,
     "metadata": {
     },
     "output_type": "execute_result"
    }
   ],
   "source": [
    "S1"
   ]
  },
  {
   "cell_type": "code",
   "execution_count": 16,
   "metadata": {
    "collapsed": false
   },
   "outputs": [
    {
     "data": {
      "text/plain": [
       "[[1, 5], [3, 2]]"
      ]
     },
     "execution_count": 16,
     "metadata": {
     },
     "output_type": "execute_result"
    }
   ],
   "source": [
    "S2"
   ]
  },
  {
   "cell_type": "code",
   "execution_count": 8,
   "metadata": {
    "collapsed": false
   },
   "outputs": [
    {
     "data": {
      "text/plain": [
       "11.199999999999996"
      ]
     },
     "execution_count": 8,
     "metadata": {
     },
     "output_type": "execute_result"
    }
   ],
   "source": [
    "#Cota que nos proporciona la matriz identidad Id.\n",
    "clusteringBound(Id,Lambda, S1, S2, 12, sum(Lambda), 2)"
   ]
  },
  {
   "cell_type": "code",
   "execution_count": 10,
   "metadata": {
    "collapsed": false
   },
   "outputs": [
    {
     "data": {
      "text/plain": [
       "13.229901247041038"
      ]
     },
     "execution_count": 10,
     "metadata": {
     },
     "output_type": "execute_result"
    }
   ],
   "source": [
    "#Cota que nos proporciona la matriz de vectores propios de M.\n",
    "clusteringBound(O,Lambda, S1, S2, 12, sum(Lambda), 2)"
   ]
  },
  {
   "cell_type": "code",
   "execution_count": 9,
   "metadata": {
    "collapsed": false
   },
   "outputs": [
    {
     "data": {
      "text/plain": [
       "[<matplotlib.lines.Line2D object at 0x7fbb6321b340>]"
      ]
     },
     "execution_count": 9,
     "metadata": {
     },
     "output_type": "execute_result"
    },
    {
     "data": {
      "image/png": "[encoded data removed]",
      "text/plain": [
       "<Figure size 432x288 with 1 Axes>"
      ]
     },
     "execution_count": 9,
     "metadata": {
      "needs_background": "light"
     },
     "output_type": "execute_result"
    }
   ],
   "source": [
    "#Como estamos en 2 dimensiones podemos recorrer todas las matrices ortogonales y graficamos la función que surge.\n",
    "x = np.arange(0, 3.14, 0.001)\n",
    "y = np.array([clusteringBound(np.array([[cos(t),-sin(t)],[sin(t), cos(t)]]),Lambda, S1, S2, 12, sum(Lambda), 2) for t in x])\n",
    "plt.plot(x,y)"
   ]
  },
  {
   "cell_type": "code",
   "execution_count": 11,
   "metadata": {
    "collapsed": false
   },
   "outputs": [
    {
     "data": {
      "text/plain": [
       "33.92180099628191"
      ]
     },
     "execution_count": 11,
     "metadata": {
     },
     "output_type": "execute_result"
    }
   ],
   "source": [
    "#Concluimos que hay matrices ortogonales que producen cotas muchas mejores. No obstante parece díficil conseguir dicho máximo. Aunque no hay tiempo para el 10 de abril, posibles opciones son métodos Monte-Carlo, y métodos meta-heurísticos como algo estilo colonia de hormigas.\n",
    "max(y)"
   ]
  },
  {
   "cell_type": "code",
   "execution_count": 0,
   "metadata": {
    "collapsed": false
   },
   "outputs": [
   ],
   "source": [
   ]
  }
 ],
 "metadata": {
  "kernelspec": {
   "display_name": "SageMath 9.5",
   "language": "sagemath",
   "metadata": {
    "cocalc": {
     "description": "Open-source mathematical software system",
     "priority": 10,
     "url": "https://www.sagemath.org/"
    }
   },
   "name": "sage-9.5",
   "resource_dir": "/ext/jupyter/kernels/sage-9.5"
  },
  "language_info": {
   "codemirror_mode": {
    "name": "ipython",
    "version": 3
   },
   "file_extension": ".py",
   "mimetype": "text/x-python",
   "name": "python",
   "nbconvert_exporter": "python",
   "pygments_lexer": "ipython3",
   "version": "3.9.9"
  }
 },
 "nbformat": 4,
 "nbformat_minor": 4
}